{
 "cells": [
  {
   "cell_type": "code",
   "execution_count": 1,
   "id": "60de67ab-5fb7-4ffe-961b-408b8b909cbe",
   "metadata": {},
   "outputs": [],
   "source": [
    "import pandas as pd "
   ]
  },
  {
   "cell_type": "code",
   "execution_count": 4,
   "id": "421556d9-9f49-454e-b232-b2c2940eb190",
   "metadata": {},
   "outputs": [],
   "source": [
    "data = pd.read_csv(r\"E:\\Datasets\\GoogleplaystoreDataset\\googleplaystore.csv\")"
   ]
  },
  {
   "cell_type": "code",
   "execution_count": 5,
   "id": "a48186f8-fcfd-4aef-adf5-ae71273df43d",
   "metadata": {},
   "outputs": [
    {
     "data": {
      "text/plain": [
       "App                  0\n",
       "Category             0\n",
       "Rating            1474\n",
       "Reviews              0\n",
       "Size                 0\n",
       "Installs             0\n",
       "Type                 1\n",
       "Price                0\n",
       "Content Rating       1\n",
       "Genres               0\n",
       "Last Updated         0\n",
       "Current Ver          8\n",
       "Android Ver          3\n",
       "dtype: int64"
      ]
     },
     "execution_count": 5,
     "metadata": {},
     "output_type": "execute_result"
    }
   ],
   "source": [
    "data.isnull().sum()"
   ]
  },
  {
   "cell_type": "code",
   "execution_count": 6,
   "id": "c9bf8736-795b-44b1-99cb-280c89bb7fdd",
   "metadata": {},
   "outputs": [],
   "source": [
    "df = data.dropna()"
   ]
  },
  {
   "cell_type": "code",
   "execution_count": 7,
   "id": "dd7fa316-8367-498d-8caf-7906e9901dba",
   "metadata": {},
   "outputs": [
    {
     "data": {
      "text/plain": [
       "App               0\n",
       "Category          0\n",
       "Rating            0\n",
       "Reviews           0\n",
       "Size              0\n",
       "Installs          0\n",
       "Type              0\n",
       "Price             0\n",
       "Content Rating    0\n",
       "Genres            0\n",
       "Last Updated      0\n",
       "Current Ver       0\n",
       "Android Ver       0\n",
       "dtype: int64"
      ]
     },
     "execution_count": 7,
     "metadata": {},
     "output_type": "execute_result"
    }
   ],
   "source": [
    "df.isnull().sum()"
   ]
  },
  {
   "cell_type": "markdown",
   "id": "0f3e4727-8371-4e84-bd1d-0932acf93e7d",
   "metadata": {},
   "source": [
    "#Finding Average rating "
   ]
  },
  {
   "cell_type": "markdown",
   "id": "c378d171-0810-448d-9829-0d64ebee292f",
   "metadata": {},
   "source": [
    "Q1. Finding average rating "
   ]
  },
  {
   "cell_type": "code",
   "execution_count": null,
   "id": "d0605372-90f5-4257-a22f-7394012ecb9b",
   "metadata": {},
   "outputs": [],
   "source": []
  },
  {
   "cell_type": "code",
   "execution_count": 13,
   "id": "c9d66328-082d-4b74-8bc3-bf9c5e7d3cf0",
   "metadata": {},
   "outputs": [
    {
     "data": {
      "text/plain": [
       "0        4.1\n",
       "1        3.9\n",
       "2        4.7\n",
       "3        4.5\n",
       "4        4.3\n",
       "        ... \n",
       "10834    4.0\n",
       "10836    4.5\n",
       "10837    5.0\n",
       "10839    4.5\n",
       "10840    4.5\n",
       "Name: Rating, Length: 9360, dtype: float64"
      ]
     },
     "execution_count": 13,
     "metadata": {},
     "output_type": "execute_result"
    }
   ],
   "source": [
    "df['Rating']"
   ]
  },
  {
   "cell_type": "code",
   "execution_count": 19,
   "id": "71a8b316-1942-4b1f-9a47-50e427b47b43",
   "metadata": {},
   "outputs": [
    {
     "data": {
      "text/plain": [
       "'4.19'"
      ]
     },
     "execution_count": 19,
     "metadata": {},
     "output_type": "execute_result"
    }
   ],
   "source": [
    "str(int(sum(df['Rating']))/9360)[:4]"
   ]
  },
  {
   "cell_type": "code",
   "execution_count": 22,
   "id": "cffadbfa-48ad-4f77-8484-a0d625ac0b46",
   "metadata": {},
   "outputs": [
    {
     "name": "stdout",
     "output_type": "stream",
     "text": [
      "39235.60000000005\n"
     ]
    }
   ],
   "source": [
    "s = 0\n",
    "for i in df['Rating']:\n",
    "    s += i\n",
    "print(s)"
   ]
  },
  {
   "cell_type": "code",
   "execution_count": 23,
   "id": "8f6574a6-4290-4298-89a6-833bf2929089",
   "metadata": {},
   "outputs": [
    {
     "data": {
      "text/plain": [
       "39235"
      ]
     },
     "execution_count": 23,
     "metadata": {},
     "output_type": "execute_result"
    }
   ],
   "source": [
    "int(sum(df['Rating']))"
   ]
  },
  {
   "cell_type": "code",
   "execution_count": 34,
   "id": "cd418f4b-b7ff-451e-9f2e-bb508b6b5c8e",
   "metadata": {},
   "outputs": [
    {
     "data": {
      "text/plain": [
       "4.0"
      ]
     },
     "execution_count": 34,
     "metadata": {},
     "output_type": "execute_result"
    }
   ],
   "source": [
    "float(str(int(sum(df['Rating']) / len(df['Rating'])))[:4])\n"
   ]
  },
  {
   "cell_type": "code",
   "execution_count": 35,
   "id": "5505936a-a69d-4a14-83c9-fa4d2fdc51ec",
   "metadata": {},
   "outputs": [
    {
     "data": {
      "text/plain": [
       "9360"
      ]
     },
     "execution_count": 35,
     "metadata": {},
     "output_type": "execute_result"
    }
   ],
   "source": [
    "len(df['Rating'])"
   ]
  },
  {
   "cell_type": "markdown",
   "id": "967bb21c-5a5f-496a-8a07-897fcaaf7e9d",
   "metadata": {},
   "source": [
    "**Q2. How many apps are there with rating 5 **\n"
   ]
  },
  {
   "cell_type": "code",
   "execution_count": 38,
   "id": "0ee84b6a-5153-4452-8ec0-db252778d90e",
   "metadata": {},
   "outputs": [
    {
     "name": "stdout",
     "output_type": "stream",
     "text": [
      "There are 274 Applications with raing 5.\n"
     ]
    }
   ],
   "source": [
    "c = 0\n",
    "for i in data['Rating']:\n",
    "    if(i==5.0):\n",
    "        c += 1 \n",
    "print(\"There are\", c, \"Applications with raing 5.\")"
   ]
  },
  {
   "cell_type": "markdown",
   "id": "fecdf36e-cef5-451d-80e7-75d435f46edb",
   "metadata": {},
   "source": [
    "#Rating between 4-4.5 "
   ]
  },
  {
   "cell_type": "code",
   "execution_count": 41,
   "id": "31788948-6b5c-4727-94ba-55e13208cc03",
   "metadata": {},
   "outputs": [
    {
     "name": "stdout",
     "output_type": "stream",
     "text": [
      "THere are 5446 apss with rating between 4 - 4.5\n"
     ]
    }
   ],
   "source": [
    "c = 0\n",
    "for i in df['Rating']:\n",
    "    if(i>=4.0 and i <= 4.5):\n",
    "        c += 1 \n",
    "print(\"THere are\", c, \"apss with rating between 4 - 4.5\") "
   ]
  },
  {
   "cell_type": "code",
   "execution_count": 43,
   "id": "ccb42ffc-419a-4f68-9659-d1f7725d5de8",
   "metadata": {},
   "outputs": [
    {
     "name": "stdout",
     "output_type": "stream",
     "text": [
      "444107\n"
     ]
    }
   ],
   "source": [
    " s = 0\n",
    "for i in df['Reviews']:\n",
    "    s += int(i)\n",
    "print(int(s/len(data['Reviews'])))"
   ]
  },
  {
   "cell_type": "code",
   "execution_count": null,
   "id": "1abfee95-e138-4453-9bfd-8957f0fd8a10",
   "metadata": {},
   "outputs": [],
   "source": []
  }
 ],
 "metadata": {
  "kernelspec": {
   "display_name": "Python [conda env:base] *",
   "language": "python",
   "name": "conda-base-py"
  },
  "language_info": {
   "codemirror_mode": {
    "name": "ipython",
    "version": 3
   },
   "file_extension": ".py",
   "mimetype": "text/x-python",
   "name": "python",
   "nbconvert_exporter": "python",
   "pygments_lexer": "ipython3",
   "version": "3.12.7"
  }
 },
 "nbformat": 4,
 "nbformat_minor": 5
}
